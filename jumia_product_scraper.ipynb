{
 "cells": [
  {
   "cell_type": "code",
   "execution_count": 11,
   "id": "75898511",
   "metadata": {},
   "outputs": [],
   "source": [
    "import requests\n",
    "from bs4 import BeautifulSoup\n",
    "import csv\n",
    "import pandas as pd"
   ]
  },
  {
   "cell_type": "code",
   "execution_count": 12,
   "id": "e9619251",
   "metadata": {},
   "outputs": [],
   "source": [
    "url = \"https://www.jumia.co.ke/groceries/\"\n",
    "\n",
    "headers = {\n",
    "    \"User-Agent\": \"Chrome/5.0\"\n",
    "}"
   ]
  },
  {
   "cell_type": "code",
   "execution_count": 13,
   "id": "3ce3bb19",
   "metadata": {},
   "outputs": [
    {
     "name": "stdout",
     "output_type": "stream",
     "text": [
      "Status Code: 200\n"
     ]
    }
   ],
   "source": [
    "# Check response\n",
    "response = requests.get(url, headers={\"User-Agent\": \"Chrome/5.0\"})\n",
    "print(f\"Status Code: {response.status_code}\")"
   ]
  },
  {
   "cell_type": "code",
   "execution_count": 14,
   "id": "93d438e7",
   "metadata": {},
   "outputs": [],
   "source": [
    "# Product page scraper\n",
    "def get_pagecontent(url):\n",
    "    headers = {\"User-Agent\": \"Chrome/5.0\"}\n",
    "    response = requests.get(url, headers=headers)\n",
    "    soup = BeautifulSoup(response.content, \"html.parser\")\n",
    "    return soup"
   ]
  },
  {
   "cell_type": "code",
   "execution_count": null,
   "id": "1438b477",
   "metadata": {},
   "outputs": [],
   "source": [
    "def extract_products(soup):\n",
    "    product_cards = soup.find_all(\"article\", class_=\"prd\")\n",
    "    print(f\"Found {len(product_cards)} products\")\n",
    "    \n",
    "    data = []\n",
    "\n",
    "    for card in product_cards:\n",
    "        # Product name\n",
    "        name = card.find(\"h3\", class_=\"name\")\n",
    "        name = name.text.strip() if name else \"N/A\"\n",
    "\n",
    "        # Price\n",
    "        price = card.find(\"div\", class_=\"prc\")\n",
    "        price = price.text.strip().replace(\"Ksh\", \"\").replace(\",\", \"\") if price else \"N/A\"\n",
    "\n",
    "        # Discount\n",
    "        discount = card.find(\"div\", class_=\"tag _dsct\")\n",
    "        discount = discount.text.strip().replace(\"-\", \"\").replace(\"%\", \"\") if discount else \"0\"\n",
    "\n",
    "        # Reviews\n",
    "        reviews_tag = card.find(\"div\", class_=\"rev\")\n",
    "        reviews = reviews_tag.text.strip().split()[0] if reviews_tag else \"0\"\n",
    "\n",
    "        # Rating\n",
    "        rating_tag = card.find(\"div\", class_=\"stars _s\")\n",
    "        rating = rating_tag.get(\"aria-label\", \"0\").split()[0] if rating_tag else \"0\"\n",
    "\n",
    "        data.append([name, price, discount, reviews, rating])\n",
    "    \n",
    "    return data"
   ]
  },
  {
   "cell_type": "code",
   "execution_count": 21,
   "id": "07195e54",
   "metadata": {},
   "outputs": [],
   "source": [
    "def save_to_csv(data):\n",
    "    with open(\"jumia_products.csv\", \"w\", newline=\"\", encoding=\"utf-8\") as file:\n",
    "        writer = csv.writer(file)\n",
    "        writer.writerow([\"Name\", \"Price\", \"Discount\", \"Reviews\", \"Rating\"])\n",
    "        for row in data:\n",
    "            writer.writerow(row)\n",
    "    print(\"✅ CSV saved successfully.\")"
   ]
  },
  {
   "cell_type": "code",
   "execution_count": 22,
   "id": "a1553409",
   "metadata": {},
   "outputs": [],
   "source": [
    "def analyze_with_pandas():\n",
    "    df = pd.read_csv(\"jumia_products.csv\")\n",
    "    print(df.head(10))\n",
    "    return df"
   ]
  },
  {
   "cell_type": "code",
   "execution_count": 24,
   "id": "eb5f7a9e",
   "metadata": {},
   "outputs": [
    {
     "name": "stdout",
     "output_type": "stream",
     "text": [
      "Found 67 products\n",
      "✅ CSV saved successfully.\n",
      "  Name     Price  Discount  Reviews  Rating\n",
      "0  NaN   KSh 159         0      0.0       0\n",
      "1  NaN   KSh 345         0      0.0       0\n",
      "2  NaN   KSh 799         0      0.0       0\n",
      "3  NaN  KSh 1149         0      0.0       0\n",
      "4  NaN  KSh 1149         0      0.0       0\n",
      "5  NaN   KSh 155         0      0.0       0\n",
      "6  NaN   KSh 599         0      0.0       0\n",
      "7  NaN   KSh 899         0      0.0       0\n",
      "8  NaN  KSh 1999         0      0.0       0\n",
      "9  NaN   KSh 799         0      0.0       0\n"
     ]
    }
   ],
   "source": [
    "# Run everything\n",
    "soup = get_pagecontent(url)\n",
    "products = extract_products(soup)\n",
    "\n",
    "if products:\n",
    "    save_to_csv(products)\n",
    "    df = analyze_with_pandas()\n",
    "else:\n",
    "    print(\"⚠️ No products found — check if page structure or section changed.\")"
   ]
  }
 ],
 "metadata": {
  "kernelspec": {
   "display_name": "venv",
   "language": "python",
   "name": "python3"
  },
  "language_info": {
   "codemirror_mode": {
    "name": "ipython",
    "version": 3
   },
   "file_extension": ".py",
   "mimetype": "text/x-python",
   "name": "python",
   "nbconvert_exporter": "python",
   "pygments_lexer": "ipython3",
   "version": "3.13.3"
  }
 },
 "nbformat": 4,
 "nbformat_minor": 5
}
