{
 "cells": [
  {
   "cell_type": "code",
   "execution_count": 1,
   "id": "27da294e",
   "metadata": {},
   "outputs": [],
   "source": [
    "import random\n"
   ]
  },
  {
   "cell_type": "code",
   "execution_count": 2,
   "id": "6e4a44c7",
   "metadata": {},
   "outputs": [],
   "source": [
    "# Define hangman words\n",
    "\n",
    "HANGMAN_WORDS = [\n",
    "    \"python\", \"developer\", \"hangman\", \"challenge\", \n",
    "    \"programming\", \"function\", \"variable\"\n",
    "]\n"
   ]
  },
  {
   "cell_type": "code",
   "execution_count": 3,
   "id": "1472a26c",
   "metadata": {},
   "outputs": [],
   "source": [
    "# Word selection function\n",
    "\n",
    "def choose_word():\n",
    "    return random.choice(HANGMAN_WORDS).lower()\n"
   ]
  },
  {
   "cell_type": "code",
   "execution_count": 4,
   "id": "4d32d625",
   "metadata": {},
   "outputs": [],
   "source": [
    "# Dispaly word function\n",
    "\n",
    "def display_word(word, guessed_letters):\n",
    "    return \" \".join([letter if letter in guessed_letters else \"_\" for letter in word])\n"
   ]
  },
  {
   "cell_type": "code",
   "execution_count": null,
   "id": "50693850",
   "metadata": {},
   "outputs": [],
   "source": [
    "# Main game logic\n",
    "\n",
    "def play_hangman():\n",
    "    word = choose_word()\n",
    "    guessed_letters = set()\n",
    "    wrong_guesses = 0\n",
    "    max_wrong_guesses = 6\n",
    "\n",
    "    print(\"🎮 Welcome to Hangman!\")\n",
    "    print(f\"The word has {len(word)} letters.\")\n",
    "\n",
    "    while wrong_guesses < max_wrong_guesses:\n",
    "        print(\"\\n\" + display_word(word, guessed_letters))\n",
    "        print(f\"❌ Wrong guesses: {wrong_guesses}/{max_wrong_guesses}\")\n",
    "        \n",
    "        try:\n",
    "            guess = input(\"Enter a letter: \").lower()\n",
    "            if not guess.isalpha() or len(guess) != 1:\n",
    "                raise ValueError(\"Please enter a single alphabetical character.\")\n",
    "\n",
    "            if guess in guessed_letters:\n",
    "                print(\"⚠️ You've already guessed that letter.\")\n",
    "                continue\n",
    "\n",
    "            guessed_letters.add(guess)\n",
    "\n",
    "            if guess in word:\n",
    "                print(\"✅ Good guess!\")\n",
    "                if all(letter in guessed_letters for letter in word):\n",
    "                    print(\"\\n🎉 Congratulations! You've guessed the word:\", word)\n",
    "                    break\n",
    "            else:\n",
    "                print(\"❌ Wrong guess.\")\n",
    "                wrong_guesses += 1\n",
    "\n",
    "        except ValueError as e:\n",
    "            print(\"🚫\", e)\n",
    "\n",
    "    else:\n",
    "        print(\"\\n💀 You've run out of attempts. The word was:\", word)\n",
    "        print(\"Game Over. You Lost!\")\n"
   ]
  },
  {
   "cell_type": "code",
   "execution_count": 11,
   "id": "52f5bd90",
   "metadata": {},
   "outputs": [
    {
     "name": "stdout",
     "output_type": "stream",
     "text": [
      "🎮 Welcome to Hangman!\n",
      "The word has 6 letters.\n",
      "\n",
      "_ _ _ _ _ _\n",
      "❌ Wrong guesses: 0/6\n",
      "❌ Wrong guess.\n",
      "\n",
      "_ _ _ _ _ _\n",
      "❌ Wrong guesses: 1/6\n",
      "✅ Good guess!\n",
      "\n",
      "_ _ _ h _ _\n",
      "❌ Wrong guesses: 1/6\n",
      "✅ Good guess!\n",
      "\n",
      "_ y _ h _ _\n",
      "❌ Wrong guesses: 1/6\n",
      "❌ Wrong guess.\n",
      "\n",
      "_ y _ h _ _\n",
      "❌ Wrong guesses: 2/6\n",
      "❌ Wrong guess.\n",
      "\n",
      "_ y _ h _ _\n",
      "❌ Wrong guesses: 3/6\n",
      "❌ Wrong guess.\n",
      "\n",
      "_ y _ h _ _\n",
      "❌ Wrong guesses: 4/6\n",
      "❌ Wrong guess.\n",
      "\n",
      "_ y _ h _ _\n",
      "❌ Wrong guesses: 5/6\n",
      "⚠️ You've already guessed that letter.\n",
      "\n",
      "_ y _ h _ _\n",
      "❌ Wrong guesses: 5/6\n",
      "❌ Wrong guess.\n",
      "\n",
      "💀 You've run out of attempts. The word was: python\n",
      "Game Over. You Lost!\n"
     ]
    }
   ],
   "source": [
    "# Run game\n",
    "\n",
    "play_hangman()\n"
   ]
  }
 ],
 "metadata": {
  "kernelspec": {
   "display_name": "venv",
   "language": "python",
   "name": "python3"
  },
  "language_info": {
   "codemirror_mode": {
    "name": "ipython",
    "version": 3
   },
   "file_extension": ".py",
   "mimetype": "text/x-python",
   "name": "python",
   "nbconvert_exporter": "python",
   "pygments_lexer": "ipython3",
   "version": "3.13.3"
  }
 },
 "nbformat": 4,
 "nbformat_minor": 5
}
